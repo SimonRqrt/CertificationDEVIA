{
 "cells": [
  {
   "cell_type": "markdown",
   "metadata": {},
   "source": [
    "![title](img/picture.png)"
   ]
  },
  {
   "cell_type": "markdown",
   "metadata": {},
   "source": [
    "# Plan du Projet : Plateforme d'Entraînement Sportif Intelligent\n",
    "\n",
    "## Collecte et stockage des données (C1 à C5)\n",
    "✅ **Scraping, API externe, Big Data** → Récupération des données des utilisateurs via Strava/Garmin et d’autres sources d’entraînement.  \n",
    "✅ **Stockage** → Utilisation d’Azure Blob Storage et d’une BDD SQL pour organiser les données collectées.  \n",
    "✅ **API REST Data** → Permet aux autres composants de requêter la base proprement.  \n",
    "\n",
    "🔹 **Action recommandée** : Tester l’intégration avec l’API Strava/Garmin et structurer les données de performance.  "
   ]
  },
  {
   "cell_type": "code",
   "execution_count": null,
   "metadata": {},
   "outputs": [],
   "source": [
    "# Exemple de récupération des données via API Strava\n",
    "import requests\n",
    "\n",
    "def get_strava_data(access_token):\n",
    "    url = \"https://www.strava.com/api/v3/athlete/activities\"\n",
    "    headers = {\"Authorization\": f\"Bearer {access_token}\"}\n",
    "    response = requests.get(url, headers=headers)\n",
    "    return response.json() if response.status_code == 200 else None\n"
   ]
  },
  {
   "cell_type": "markdown",
   "metadata": {},
   "source": [
    "## Enrichissement des modèles IA et analyse des données (C6 à C10)\n",
    "✅ **Veille sur les techniques IA** → Utilisation d’un LLM enrichi par des agents cherchant des informations sur des sites spécialisés.  \n",
    "✅ **Entraînement d’un modèle IA** → Exploiter des données d’entraînement pour ajuster les recommandations.  \n",
    "✅ **Application avec IA (Django, Streamlit, Gradio)** → Interface utilisateur pour générer des recommandations personnalisées.  \n",
    "\n",
    "🔹 **Action recommandée** : Définir un POC de l’IA avec un LLM et un système RAG pour éviter les hallucinations.  "
   ]
  },
  {
   "cell_type": "code",
   "execution_count": null,
   "metadata": {},
   "outputs": [],
   "source": [
    "from openai import OpenAI\n",
    "\n",
    "def get_training_advice(user_data):\n",
    "    prompt = f\"\"\"En fonction des données suivantes : {user_data}, propose un plan d'entraînement personnalisé.\"\"\"\n",
    "    response = OpenAI().completion.create(engine=\"gpt-4\", prompt=prompt, max_tokens=200)\n",
    "    return response[\"choices\"][0][\"text\"].strip()"
   ]
  },
  {
   "cell_type": "markdown",
   "metadata": {},
   "source": [
    "\n",
    "## Déploiement, monitoring et CI/CD (C11 à C13)\n",
    "✅ **Monitoring & supervision du modèle IA** → Mise en place d’outils comme Prometheus, Evidently AI pour suivre les performances.  \n",
    "✅ **CI/CD du modèle** → Pipeline d’automatisation pour mise à jour du modèle d’IA.  \n",
    "\n",
    "🔹 **Action recommandée** : Tester le monitoring avec des premières métriques sur l’IA.  "
   ]
  },
  {
   "cell_type": "code",
   "execution_count": null,
   "metadata": {},
   "outputs": [],
   "source": [
    "from prometheus_client import Counter, start_http_server\n",
    "\n",
    "http_requests_total = Counter('http_requests_total', 'Total des requêtes HTTP')\n",
    "\n",
    "start_http_server(8000) # Expose les métriques sur le port 8000"
   ]
  },
  {
   "cell_type": "markdown",
   "metadata": {},
   "source": [
    "\n",
    "## Développement et intégration technique (C14 à C19)\n",
    "✅ **Analyse du besoin et cadre technique** → Définition des objectifs utilisateur et des contraintes légales (RGPD).  \n",
    "✅ **Développement d’une application web** → Intégration dans Django pour structurer les interactions avec les utilisateurs.  \n",
    "✅ **Agilité, CI/CD, résilience** → Intégration de bonnes pratiques DevOps.  \n",
    "\n",
    "🔹 **Action recommandée** : Créer une première version de l’architecture backend/front-end pour l’application.  "
   ]
  },
  {
   "cell_type": "code",
   "execution_count": null,
   "metadata": {},
   "outputs": [],
   "source": [
    "from fastapi import FastAPI\n",
    "\n",
    "app = FastAPI()\n",
    "\n",
    "@app.get(\"/ping\")\n",
    "def read_root():\n",
    "    return {\"message\": \"L'API fonctionne !\"}\n",
    "\n",
    "# Lancer avec: uvicorn nom_du_fichier:app --reload"
   ]
  },
  {
   "cell_type": "markdown",
   "metadata": {},
   "source": [
    "## Gestion des incidents techniques et finalisation (C20 à C21)\n",
    "✅ **Résolution d’incidents techniques** → Plan pour gérer les erreurs de collecte de données ou de performance du modèle IA.   "
   ]
  },
  {
   "cell_type": "code",
   "execution_count": null,
   "metadata": {},
   "outputs": [],
   "source": [
    "try:\n",
    "    data = get_strava_data(\"fake_access_token\")\n",
    "    if not data:\n",
    "        raise ValueError(\"Aucune donnée récupérée\")\n",
    "except Exception as e:\n",
    "    print(f\"Erreur : {e}\")"
   ]
  },
  {
   "cell_type": "markdown",
   "metadata": {},
   "source": [
    "## Etapes du POC\n",
    "1️⃣ **Test API Strava/Garmin** → Récupération des données brutes d’un utilisateur test.  \n",
    "2️⃣ **Prototype du LLM** → Expérimenter un modèle RAG avec des sources externes.  \n",
    "3️⃣ **Interface minimaliste** → Afficher un premier retour personnalisé via Streamlit. "
   ]
  }
 ],
 "metadata": {
  "kernelspec": {
   "display_name": "base",
   "language": "python",
   "name": "python3"
  },
  "language_info": {
   "codemirror_mode": {
    "name": "ipython",
    "version": 3
   },
   "file_extension": ".py",
   "mimetype": "text/x-python",
   "name": "python",
   "nbconvert_exporter": "python",
   "pygments_lexer": "ipython3",
   "version": "3.11.5"
  }
 },
 "nbformat": 4,
 "nbformat_minor": 2
}
